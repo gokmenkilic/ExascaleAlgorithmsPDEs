{
 "cells": [
  {
   "cell_type": "markdown",
   "id": "b9e3cef8",
   "metadata": {},
   "source": [
    "## Diffusion equation\n",
    "\n",
    "Aim: To experiment with a forward in time, centred in space\n",
    "scheme for integrating the linear diffusion equation\n",
    "\n",
    "\\begin{equation}\n",
    "\\frac{\\partial \\phi}{\\partial t} = K \\frac{\\partial^2 \\phi}{\\partial x^2}\n",
    "\\end{equation}\n",
    "\n",
    "on a periodic domain $0 \\le x \\le 1$. The initial condition is\n",
    "given as\n",
    "\n",
    "\\begin{equation}\n",
    "\\phi(x,0) = \\left\\{\n",
    "\\begin{array}{l}\n",
    "1\\ \\ \\ \\ \\mathrm{if\\ } 1/4 \\le x \\le 3/4 \\\\\n",
    "0\\ \\ \\ \\ \\mathrm{otherwise}\n",
    "\\end{array}\n",
    "\\right.\n",
    "\\end{equation}\n",
    "\n",
    "Write a python procedure to solve this using a forward in time, centered in space method. Take $\\Delta x=1/20$\n",
    "and $\\Delta t=0.001$. You can use numpy arrays to store the solution and you might find the numpy routines linspace and roll useful.\n",
    "\n",
    "\n",
    "Run the procedure. Is the output what you expect? Experiment with the\n",
    "initial conditions. What happens to a sine wave? Or half a sine wave?\n",
    "\n",
    "\n",
    "Modify the procedure to use double the number of grid points in\n",
    "the $x$-direction, and compile and run it again? Is the\n",
    "solution more accurate? What happens?\n",
    "\n",
    "Use the theory given in lectures to calculate the maximum stable\n",
    "timestep at this new resolution. Modify the procedure to use\n",
    "a stable time step and compile it and run it again. Now is\n",
    "it more accurate than before?\n",
    "\n",
    "### Extension\n",
    "\n",
    "Create a new procedure that uses a\n",
    "backward Euler time step instead of a forward Euler time step. You\n",
    "will have to formulate the tridiagonal system of simultaneous\n",
    "equations for the $\\phi_j^{n+1}$, then numpy functions to solve that system.\n",
    "\n",
    "Run your new procedure for the original $\\Delta x$\n",
    "and $\\Delta t$.\n",
    "Compare the accuracy of the two schemes.\n",
    "\n",
    "Now double the number of grid points in the $x$-direction\n",
    "and recompile and run your new procedure. Does it remain stable?\n",
    "How big can you make the time step without it blowing up?\n",
    "\n",
    "\n"
   ]
  },
  {
   "cell_type": "code",
   "execution_count": null,
   "id": "af420470",
   "metadata": {},
   "outputs": [],
   "source": []
  }
 ],
 "metadata": {
  "kernelspec": {
   "display_name": "Python 3 (ipykernel)",
   "language": "python",
   "name": "python3"
  },
  "language_info": {
   "codemirror_mode": {
    "name": "ipython",
    "version": 3
   },
   "file_extension": ".py",
   "mimetype": "text/x-python",
   "name": "python",
   "nbconvert_exporter": "python",
   "pygments_lexer": "ipython3",
   "version": "3.9.19"
  }
 },
 "nbformat": 4,
 "nbformat_minor": 5
}
